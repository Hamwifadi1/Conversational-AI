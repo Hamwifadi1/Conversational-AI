{
  "nbformat": 4,
  "nbformat_minor": 0,
  "metadata": {
    "colab": {
      "provenance": [],
      "toc_visible": true,
      "authorship_tag": "ABX9TyP8wIV5vDw6wEmebyNCd4DH",
      "include_colab_link": true
    },
    "kernelspec": {
      "name": "python3",
      "display_name": "Python 3"
    },
    "language_info": {
      "name": "python"
    }
  },
  "cells": [
    {
      "cell_type": "markdown",
      "metadata": {
        "id": "view-in-github",
        "colab_type": "text"
      },
      "source": [
        "<a href=\"https://colab.research.google.com/github/Hamwifadi1/Conversational-AI-/blob/main/Tokenization.ipynb\" target=\"_parent\"><img src=\"https://colab.research.google.com/assets/colab-badge.svg\" alt=\"Open In Colab\"/></a>"
      ]
    },
    {
      "cell_type": "markdown",
      "source": [
        "# **Install NLTK**"
      ],
      "metadata": {
        "id": "K9wWzjwqdMg6"
      }
    },
    {
      "cell_type": "code",
      "execution_count": null,
      "metadata": {
        "colab": {
          "base_uri": "https://localhost:8080/"
        },
        "id": "6AI2HyzjVUi9",
        "outputId": "b68d05b2-38f2-4169-b814-8073f32055ad"
      },
      "outputs": [
        {
          "output_type": "stream",
          "name": "stdout",
          "text": [
            "Requirement already satisfied: nltk in /usr/local/lib/python3.10/dist-packages (3.8.1)\n",
            "Requirement already satisfied: click in /usr/local/lib/python3.10/dist-packages (from nltk) (8.1.7)\n",
            "Requirement already satisfied: joblib in /usr/local/lib/python3.10/dist-packages (from nltk) (1.4.2)\n",
            "Requirement already satisfied: regex>=2021.8.3 in /usr/local/lib/python3.10/dist-packages (from nltk) (2024.9.11)\n",
            "Requirement already satisfied: tqdm in /usr/local/lib/python3.10/dist-packages (from nltk) (4.66.5)\n"
          ]
        },
        {
          "output_type": "stream",
          "name": "stderr",
          "text": [
            "[nltk_data] Downloading package punkt to /root/nltk_data...\n",
            "[nltk_data]   Unzipping tokenizers/punkt.zip.\n"
          ]
        },
        {
          "output_type": "execute_result",
          "data": {
            "text/plain": [
              "True"
            ]
          },
          "metadata": {},
          "execution_count": 15
        }
      ],
      "source": [
        " !pip install nltk\n",
        " nltk.download('punkt')"
      ]
    },
    {
      "cell_type": "markdown",
      "source": [
        "# **Import Required Functions**"
      ],
      "metadata": {
        "id": "lP3_t8NSdSud"
      }
    },
    {
      "cell_type": "code",
      "source": [
        "import nltk\n",
        "from nltk.tokenize import word_tokenize\n",
        "from nltk.probability import FreqDist"
      ],
      "metadata": {
        "id": "dfQwNrQSZbLE"
      },
      "execution_count": null,
      "outputs": []
    },
    {
      "cell_type": "markdown",
      "source": [
        "# **Define the Text**"
      ],
      "metadata": {
        "id": "rp0srUmGdpK_"
      }
    },
    {
      "cell_type": "code",
      "source": [
        "text = \"Football, also known as soccer in some countries, is one of the most popular sports worldwide. \\\n",
        "The game is played between two teams of eleven players on a rectangular field with a goal at each end. \\\n",
        "The objective is to score by getting the ball into the opposing team's goal, using any part of the body except the hands and arms. \\\n",
        "Football has a massive fan base and is followed passionately in nearly every corner of the world.\"\n"
      ],
      "metadata": {
        "id": "ICJ2r5GHaL_S"
      },
      "execution_count": null,
      "outputs": []
    },
    {
      "cell_type": "markdown",
      "source": [
        "# **Tokenize the Text**"
      ],
      "metadata": {
        "id": "D4l-2sJ5dyT8"
      }
    },
    {
      "cell_type": "code",
      "source": [
        "tokens = word_tokenize(text)\n",
        "print(\"tokens:\",tokens)"
      ],
      "metadata": {
        "colab": {
          "base_uri": "https://localhost:8080/"
        },
        "id": "DzNqAP5Jaczs",
        "outputId": "0ada6e93-2d36-4450-bcba-6318462184aa"
      },
      "execution_count": null,
      "outputs": [
        {
          "output_type": "stream",
          "name": "stdout",
          "text": [
            "tokens: ['Football', ',', 'also', 'known', 'as', 'soccer', 'in', 'some', 'countries', ',', 'is', 'one', 'of', 'the', 'most', 'popular', 'sports', 'worldwide', '.', 'The', 'game', 'is', 'played', 'between', 'two', 'teams', 'of', 'eleven', 'players', 'on', 'a', 'rectangular', 'field', 'with', 'a', 'goal', 'at', 'each', 'end', '.', 'The', 'objective', 'is', 'to', 'score', 'by', 'getting', 'the', 'ball', 'into', 'the', 'opposing', 'team', \"'s\", 'goal', ',', 'using', 'any', 'part', 'of', 'the', 'body', 'except', 'the', 'hands', 'and', 'arms', '.', 'Football', 'has', 'a', 'massive', 'fan', 'base', 'and', 'is', 'followed', 'passionately', 'in', 'nearly', 'every', 'corner', 'of', 'the', 'world', '.']\n"
          ]
        }
      ]
    },
    {
      "cell_type": "markdown",
      "source": [
        "# **Count the Number of Tokens**"
      ],
      "metadata": {
        "id": "anZEJxopeGmo"
      }
    },
    {
      "cell_type": "code",
      "source": [
        "num_tokens=len(tokens)\n",
        "print(\"Number of tokens is:\", num_tokens)"
      ],
      "metadata": {
        "colab": {
          "base_uri": "https://localhost:8080/"
        },
        "id": "YWUz2f2UbcIC",
        "outputId": "ee0b3a00-fe80-4a58-e61e-363615ad8a5c"
      },
      "execution_count": null,
      "outputs": [
        {
          "output_type": "stream",
          "name": "stdout",
          "text": [
            "Number of tokens is: 86\n"
          ]
        }
      ]
    },
    {
      "cell_type": "markdown",
      "source": [
        "# **Calculate the Frequency of Each Token**"
      ],
      "metadata": {
        "id": "-Kd6W8zReM8k"
      }
    },
    {
      "cell_type": "code",
      "source": [
        "freq_dist = FreqDist(tokens)\n",
        "print(\"Frequency of each token:\")\n",
        "for word, frequency in freq_dist.items():\n",
        "    print(f\"{word}: {frequency}\")"
      ],
      "metadata": {
        "colab": {
          "base_uri": "https://localhost:8080/"
        },
        "id": "AYOnB-Y8cOjt",
        "outputId": "bb5eab3f-193c-4fdd-87c3-51d9f97a0b50"
      },
      "execution_count": null,
      "outputs": [
        {
          "output_type": "stream",
          "name": "stdout",
          "text": [
            "Frequency of each token:\n",
            "Football: 2\n",
            ",: 3\n",
            "also: 1\n",
            "known: 1\n",
            "as: 1\n",
            "soccer: 1\n",
            "in: 2\n",
            "some: 1\n",
            "countries: 1\n",
            "is: 4\n",
            "one: 1\n",
            "of: 4\n",
            "the: 6\n",
            "most: 1\n",
            "popular: 1\n",
            "sports: 1\n",
            "worldwide: 1\n",
            ".: 4\n",
            "The: 2\n",
            "game: 1\n",
            "played: 1\n",
            "between: 1\n",
            "two: 1\n",
            "teams: 1\n",
            "eleven: 1\n",
            "players: 1\n",
            "on: 1\n",
            "a: 3\n",
            "rectangular: 1\n",
            "field: 1\n",
            "with: 1\n",
            "goal: 2\n",
            "at: 1\n",
            "each: 1\n",
            "end: 1\n",
            "objective: 1\n",
            "to: 1\n",
            "score: 1\n",
            "by: 1\n",
            "getting: 1\n",
            "ball: 1\n",
            "into: 1\n",
            "opposing: 1\n",
            "team: 1\n",
            "'s: 1\n",
            "using: 1\n",
            "any: 1\n",
            "part: 1\n",
            "body: 1\n",
            "except: 1\n",
            "hands: 1\n",
            "and: 2\n",
            "arms: 1\n",
            "has: 1\n",
            "massive: 1\n",
            "fan: 1\n",
            "base: 1\n",
            "followed: 1\n",
            "passionately: 1\n",
            "nearly: 1\n",
            "every: 1\n",
            "corner: 1\n",
            "world: 1\n"
          ]
        }
      ]
    },
    {
      "cell_type": "code",
      "source": [],
      "metadata": {
        "id": "-MSgW0ygc_au"
      },
      "execution_count": null,
      "outputs": []
    }
  ]
}